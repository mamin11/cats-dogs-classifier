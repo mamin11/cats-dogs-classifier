{
  "nbformat": 4,
  "nbformat_minor": 0,
  "metadata": {
    "colab": {
      "name": "DL5.2.ipynb",
      "provenance": [],
      "collapsed_sections": []
    },
    "kernelspec": {
      "name": "python3",
      "display_name": "Python 3"
    },
    "accelerator": "GPU"
  },
  "cells": [
    {
      "cell_type": "code",
      "metadata": {
        "id": "FE3OIJ2ULS_z",
        "colab_type": "code",
        "colab": {}
      },
      "source": [
        "#UPLOAD TRAINSMALL.ZIP AND UNZIP THE DATASET. UNCOMMENT THE CODE BELOW."
      ],
      "execution_count": 0,
      "outputs": []
    },
    {
      "cell_type": "code",
      "metadata": {
        "id": "UxGhWnd-hNi3",
        "colab_type": "code",
        "colab": {}
      },
      "source": [
        "#from google.colab import files\n",
        "#uploaded = files.upload()"
      ],
      "execution_count": 0,
      "outputs": []
    },
    {
      "cell_type": "code",
      "metadata": {
        "id": "KuDQ8xx1k67F",
        "colab_type": "code",
        "colab": {}
      },
      "source": [
        "!unzip -q trainsmall.zip"
      ],
      "execution_count": 0,
      "outputs": []
    },
    {
      "cell_type": "code",
      "metadata": {
        "id": "pOc2eBd8MRQX",
        "colab_type": "code",
        "colab": {}
      },
      "source": [
        "#GDRIVEPATH='/content/drive/My Drive/ROOT/Work/UoN/CSY3025/dogs-vs-cats/'\n",
        "GDRIVEPATH=''"
      ],
      "execution_count": 0,
      "outputs": []
    },
    {
      "cell_type": "code",
      "metadata": {
        "id": "qzOpfHyPgE-N",
        "colab_type": "code",
        "colab": {}
      },
      "source": [
        "import os, shutil\n",
        "\n",
        "base_dir = GDRIVEPATH+'trainsmall'\n",
        "\n",
        "train_dir = os.path.join(base_dir, 'train')\n",
        "validation_dir = os.path.join(base_dir, 'validation')\n",
        "test_dir = os.path.join(base_dir, 'test')\n",
        "\n",
        "train_cats_dir = os.path.join(train_dir, 'cats')\n",
        "train_dogs_dir = os.path.join(train_dir, 'dogs')\n",
        "\n",
        "validation_cats_dir = os.path.join(validation_dir, 'cats')\n",
        "validation_dogs_dir = os.path.join(validation_dir, 'dogs')\n",
        "\n",
        "test_cats_dir = os.path.join(test_dir, 'cats')\n",
        "test_dogs_dir = os.path.join(test_dir, 'dogs')"
      ],
      "execution_count": 0,
      "outputs": []
    },
    {
      "cell_type": "code",
      "metadata": {
        "id": "A_GkUh0CgtIn",
        "colab_type": "code",
        "outputId": "9b65a80d-dbfa-4936-8438-d3e049fea467",
        "colab": {
          "base_uri": "https://localhost:8080/",
          "height": 34
        }
      },
      "source": [
        "print('total training cat images:', len(os.listdir(train_cats_dir)))"
      ],
      "execution_count": 0,
      "outputs": [
        {
          "output_type": "stream",
          "text": [
            "total training cat images: 1000\n"
          ],
          "name": "stdout"
        }
      ]
    },
    {
      "cell_type": "code",
      "metadata": {
        "id": "5BLzPNBrlY29",
        "colab_type": "code",
        "outputId": "d688f998-c4d5-413a-d7f3-9796406bf401",
        "colab": {
          "base_uri": "https://localhost:8080/",
          "height": 255
        }
      },
      "source": [
        "from keras import layers\n",
        "from keras import models\n",
        "\n",
        "model = models.Sequential()\n",
        "model.add(layers.Conv2D(32, (3, 3), activation='relu',\n",
        "                        input_shape=(150, 150, 3)))\n",
        "model.add(layers.MaxPooling2D((2, 2)))\n",
        "model.add(layers.Conv2D(64, (3, 3), activation='relu'))\n",
        "model.add(layers.MaxPooling2D((2, 2)))\n",
        "model.add(layers.Conv2D(128, (3, 3), activation='relu'))\n",
        "model.add(layers.MaxPooling2D((2, 2)))\n",
        "model.add(layers.Conv2D(128, (3, 3), activation='relu'))\n",
        "model.add(layers.MaxPooling2D((2, 2)))\n",
        "model.add(layers.Flatten())\n",
        "model.add(layers.Dense(512, activation='relu'))\n",
        "model.add(layers.Dense(1, activation='sigmoid'))"
      ],
      "execution_count": 0,
      "outputs": [
        {
          "output_type": "stream",
          "text": [
            "Using TensorFlow backend.\n"
          ],
          "name": "stderr"
        },
        {
          "output_type": "display_data",
          "data": {
            "text/html": [
              "<p style=\"color: red;\">\n",
              "The default version of TensorFlow in Colab will soon switch to TensorFlow 2.x.<br>\n",
              "We recommend you <a href=\"https://www.tensorflow.org/guide/migrate\" target=\"_blank\">upgrade</a> now \n",
              "or ensure your notebook will continue to use TensorFlow 1.x via the <code>%tensorflow_version 1.x</code> magic:\n",
              "<a href=\"https://colab.research.google.com/notebooks/tensorflow_version.ipynb\" target=\"_blank\">more info</a>.</p>\n"
            ],
            "text/plain": [
              "<IPython.core.display.HTML object>"
            ]
          },
          "metadata": {
            "tags": []
          }
        },
        {
          "output_type": "stream",
          "text": [
            "WARNING:tensorflow:From /usr/local/lib/python3.6/dist-packages/keras/backend/tensorflow_backend.py:66: The name tf.get_default_graph is deprecated. Please use tf.compat.v1.get_default_graph instead.\n",
            "\n",
            "WARNING:tensorflow:From /usr/local/lib/python3.6/dist-packages/keras/backend/tensorflow_backend.py:541: The name tf.placeholder is deprecated. Please use tf.compat.v1.placeholder instead.\n",
            "\n",
            "WARNING:tensorflow:From /usr/local/lib/python3.6/dist-packages/keras/backend/tensorflow_backend.py:4432: The name tf.random_uniform is deprecated. Please use tf.random.uniform instead.\n",
            "\n",
            "WARNING:tensorflow:From /usr/local/lib/python3.6/dist-packages/keras/backend/tensorflow_backend.py:4267: The name tf.nn.max_pool is deprecated. Please use tf.nn.max_pool2d instead.\n",
            "\n"
          ],
          "name": "stdout"
        }
      ]
    },
    {
      "cell_type": "code",
      "metadata": {
        "id": "blq4BkcBlehX",
        "colab_type": "code",
        "outputId": "5d44d90e-d58b-42a6-bd63-f9fddeca81f3",
        "colab": {
          "base_uri": "https://localhost:8080/",
          "height": 531
        }
      },
      "source": [
        "model.summary()"
      ],
      "execution_count": 0,
      "outputs": [
        {
          "output_type": "stream",
          "text": [
            "Model: \"sequential_1\"\n",
            "_________________________________________________________________\n",
            "Layer (type)                 Output Shape              Param #   \n",
            "=================================================================\n",
            "conv2d_1 (Conv2D)            (None, 148, 148, 32)      896       \n",
            "_________________________________________________________________\n",
            "max_pooling2d_1 (MaxPooling2 (None, 74, 74, 32)        0         \n",
            "_________________________________________________________________\n",
            "conv2d_2 (Conv2D)            (None, 72, 72, 64)        18496     \n",
            "_________________________________________________________________\n",
            "max_pooling2d_2 (MaxPooling2 (None, 36, 36, 64)        0         \n",
            "_________________________________________________________________\n",
            "conv2d_3 (Conv2D)            (None, 34, 34, 128)       73856     \n",
            "_________________________________________________________________\n",
            "max_pooling2d_3 (MaxPooling2 (None, 17, 17, 128)       0         \n",
            "_________________________________________________________________\n",
            "conv2d_4 (Conv2D)            (None, 15, 15, 128)       147584    \n",
            "_________________________________________________________________\n",
            "max_pooling2d_4 (MaxPooling2 (None, 7, 7, 128)         0         \n",
            "_________________________________________________________________\n",
            "flatten_1 (Flatten)          (None, 6272)              0         \n",
            "_________________________________________________________________\n",
            "dense_1 (Dense)              (None, 512)               3211776   \n",
            "_________________________________________________________________\n",
            "dense_2 (Dense)              (None, 1)                 513       \n",
            "=================================================================\n",
            "Total params: 3,453,121\n",
            "Trainable params: 3,453,121\n",
            "Non-trainable params: 0\n",
            "_________________________________________________________________\n"
          ],
          "name": "stdout"
        }
      ]
    },
    {
      "cell_type": "code",
      "metadata": {
        "id": "NHva5dr8ljco",
        "colab_type": "code",
        "outputId": "22bb99d9-2e85-459c-e2c7-e9636d6a269b",
        "colab": {
          "base_uri": "https://localhost:8080/",
          "height": 157
        }
      },
      "source": [
        "from keras import optimizers\n",
        "\n",
        "model.compile(loss='binary_crossentropy',\n",
        "              optimizer=optimizers.RMSprop(lr=1e-4),\n",
        "              metrics=['acc'])"
      ],
      "execution_count": 0,
      "outputs": [
        {
          "output_type": "stream",
          "text": [
            "WARNING:tensorflow:From /usr/local/lib/python3.6/dist-packages/keras/optimizers.py:793: The name tf.train.Optimizer is deprecated. Please use tf.compat.v1.train.Optimizer instead.\n",
            "\n",
            "WARNING:tensorflow:From /usr/local/lib/python3.6/dist-packages/keras/backend/tensorflow_backend.py:3657: The name tf.log is deprecated. Please use tf.math.log instead.\n",
            "\n",
            "WARNING:tensorflow:From /usr/local/lib/python3.6/dist-packages/tensorflow_core/python/ops/nn_impl.py:183: where (from tensorflow.python.ops.array_ops) is deprecated and will be removed in a future version.\n",
            "Instructions for updating:\n",
            "Use tf.where in 2.0, which has the same broadcast rule as np.where\n"
          ],
          "name": "stdout"
        }
      ]
    },
    {
      "cell_type": "code",
      "metadata": {
        "id": "ZGRyv85amtpU",
        "colab_type": "code",
        "outputId": "ed71a16c-02c9-436d-9a42-feb0a50b2c81",
        "colab": {
          "base_uri": "https://localhost:8080/",
          "height": 51
        }
      },
      "source": [
        "from keras.preprocessing.image import ImageDataGenerator\n",
        "\n",
        "train_datagen = ImageDataGenerator(rescale=1./255)\n",
        "test_datagen = ImageDataGenerator(rescale=1./255)\n",
        "\n",
        "train_generator = train_datagen.flow_from_directory(\n",
        "        train_dir,\n",
        "        target_size=(150, 150),\n",
        "        batch_size=20,\n",
        "        class_mode='binary')\n",
        "\n",
        "validation_generator = test_datagen.flow_from_directory(\n",
        "        validation_dir,\n",
        "        target_size=(150, 150),\n",
        "        batch_size=20,\n",
        "        class_mode='binary')\n"
      ],
      "execution_count": 0,
      "outputs": [
        {
          "output_type": "stream",
          "text": [
            "Found 2000 images belonging to 2 classes.\n",
            "Found 1000 images belonging to 2 classes.\n"
          ],
          "name": "stdout"
        }
      ]
    },
    {
      "cell_type": "code",
      "metadata": {
        "id": "-FNTJd1-3YSe",
        "colab_type": "code",
        "outputId": "92b5b5ee-adfb-423d-9ee2-38fc3e70095a",
        "colab": {
          "base_uri": "https://localhost:8080/",
          "height": 51
        }
      },
      "source": [
        "for data_batch, labels_batch in train_generator:\n",
        "     print('data batch shape:', data_batch.shape)\n",
        "     print('labels batch shape:', labels_batch.shape)\n",
        "     break"
      ],
      "execution_count": 0,
      "outputs": [
        {
          "output_type": "stream",
          "text": [
            "data batch shape: (20, 150, 150, 3)\n",
            "labels batch shape: (20,)\n"
          ],
          "name": "stdout"
        }
      ]
    },
    {
      "cell_type": "code",
      "metadata": {
        "id": "xoyLC8BF9Gtg",
        "colab_type": "code",
        "outputId": "cd5d8bd8-8c51-45f1-e3d2-e90fe2ac3e5f",
        "colab": {
          "base_uri": "https://localhost:8080/",
          "height": 1000
        }
      },
      "source": [
        "history = model.fit_generator(\n",
        "      train_generator,\n",
        "      steps_per_epoch=100,\n",
        "      epochs=30,\n",
        "      validation_data=validation_generator,\n",
        "      validation_steps=50)"
      ],
      "execution_count": 0,
      "outputs": [
        {
          "output_type": "stream",
          "text": [
            "WARNING:tensorflow:From /usr/local/lib/python3.6/dist-packages/keras/backend/tensorflow_backend.py:1033: The name tf.assign_add is deprecated. Please use tf.compat.v1.assign_add instead.\n",
            "\n",
            "WARNING:tensorflow:From /usr/local/lib/python3.6/dist-packages/keras/backend/tensorflow_backend.py:1020: The name tf.assign is deprecated. Please use tf.compat.v1.assign instead.\n",
            "\n",
            "WARNING:tensorflow:From /usr/local/lib/python3.6/dist-packages/keras/backend/tensorflow_backend.py:3005: The name tf.Session is deprecated. Please use tf.compat.v1.Session instead.\n",
            "\n",
            "Epoch 1/30\n",
            "WARNING:tensorflow:From /usr/local/lib/python3.6/dist-packages/keras/backend/tensorflow_backend.py:190: The name tf.get_default_session is deprecated. Please use tf.compat.v1.get_default_session instead.\n",
            "\n",
            "WARNING:tensorflow:From /usr/local/lib/python3.6/dist-packages/keras/backend/tensorflow_backend.py:197: The name tf.ConfigProto is deprecated. Please use tf.compat.v1.ConfigProto instead.\n",
            "\n",
            "WARNING:tensorflow:From /usr/local/lib/python3.6/dist-packages/keras/backend/tensorflow_backend.py:207: The name tf.global_variables is deprecated. Please use tf.compat.v1.global_variables instead.\n",
            "\n",
            "WARNING:tensorflow:From /usr/local/lib/python3.6/dist-packages/keras/backend/tensorflow_backend.py:216: The name tf.is_variable_initialized is deprecated. Please use tf.compat.v1.is_variable_initialized instead.\n",
            "\n",
            "WARNING:tensorflow:From /usr/local/lib/python3.6/dist-packages/keras/backend/tensorflow_backend.py:223: The name tf.variables_initializer is deprecated. Please use tf.compat.v1.variables_initializer instead.\n",
            "\n",
            "100/100 [==============================] - 25s 251ms/step - loss: 0.6917 - acc: 0.5285 - val_loss: 0.6781 - val_acc: 0.5890\n",
            "Epoch 2/30\n",
            "100/100 [==============================] - 9s 88ms/step - loss: 0.6560 - acc: 0.6110 - val_loss: 0.6366 - val_acc: 0.6310\n",
            "Epoch 3/30\n",
            "100/100 [==============================] - 9s 90ms/step - loss: 0.6081 - acc: 0.6700 - val_loss: 0.6529 - val_acc: 0.5930\n",
            "Epoch 4/30\n",
            "100/100 [==============================] - 9s 87ms/step - loss: 0.5662 - acc: 0.7075 - val_loss: 0.5791 - val_acc: 0.6960\n",
            "Epoch 5/30\n",
            "100/100 [==============================] - 9s 89ms/step - loss: 0.5240 - acc: 0.7480 - val_loss: 0.5621 - val_acc: 0.7050\n",
            "Epoch 6/30\n",
            "100/100 [==============================] - 9s 88ms/step - loss: 0.5029 - acc: 0.7475 - val_loss: 0.6110 - val_acc: 0.6730\n",
            "Epoch 7/30\n",
            "100/100 [==============================] - 9s 87ms/step - loss: 0.4796 - acc: 0.7750 - val_loss: 0.5604 - val_acc: 0.7180\n",
            "Epoch 8/30\n",
            "100/100 [==============================] - 9s 86ms/step - loss: 0.4461 - acc: 0.7840 - val_loss: 0.6672 - val_acc: 0.6420\n",
            "Epoch 9/30\n",
            "100/100 [==============================] - 9s 87ms/step - loss: 0.4242 - acc: 0.8090 - val_loss: 0.5464 - val_acc: 0.7270\n",
            "Epoch 10/30\n",
            "100/100 [==============================] - 9s 86ms/step - loss: 0.3915 - acc: 0.8325 - val_loss: 0.5820 - val_acc: 0.7120\n",
            "Epoch 11/30\n",
            "100/100 [==============================] - 9s 92ms/step - loss: 0.3733 - acc: 0.8440 - val_loss: 0.6230 - val_acc: 0.6920\n",
            "Epoch 12/30\n",
            "100/100 [==============================] - 9s 90ms/step - loss: 0.3429 - acc: 0.8540 - val_loss: 0.5533 - val_acc: 0.7310\n",
            "Epoch 13/30\n",
            "100/100 [==============================] - 9s 90ms/step - loss: 0.3249 - acc: 0.8575 - val_loss: 0.5721 - val_acc: 0.7360\n",
            "Epoch 14/30\n",
            "100/100 [==============================] - 9s 90ms/step - loss: 0.3043 - acc: 0.8730 - val_loss: 0.5575 - val_acc: 0.7390\n",
            "Epoch 15/30\n",
            "100/100 [==============================] - 9s 92ms/step - loss: 0.2837 - acc: 0.8865 - val_loss: 0.5988 - val_acc: 0.7360\n",
            "Epoch 16/30\n",
            "100/100 [==============================] - 9s 91ms/step - loss: 0.2572 - acc: 0.9010 - val_loss: 0.6346 - val_acc: 0.7060\n",
            "Epoch 17/30\n",
            "100/100 [==============================] - 9s 92ms/step - loss: 0.2391 - acc: 0.9020 - val_loss: 0.6970 - val_acc: 0.6930\n",
            "Epoch 18/30\n",
            "100/100 [==============================] - 9s 92ms/step - loss: 0.2137 - acc: 0.9210 - val_loss: 0.6473 - val_acc: 0.7280\n",
            "Epoch 19/30\n",
            "100/100 [==============================] - 9s 90ms/step - loss: 0.1880 - acc: 0.9270 - val_loss: 0.6170 - val_acc: 0.7470\n",
            "Epoch 20/30\n",
            "100/100 [==============================] - 9s 89ms/step - loss: 0.1746 - acc: 0.9340 - val_loss: 0.7976 - val_acc: 0.7070\n",
            "Epoch 21/30\n",
            "100/100 [==============================] - 9s 92ms/step - loss: 0.1540 - acc: 0.9430 - val_loss: 0.6898 - val_acc: 0.7370\n",
            "Epoch 22/30\n",
            "100/100 [==============================] - 9s 92ms/step - loss: 0.1359 - acc: 0.9550 - val_loss: 0.7050 - val_acc: 0.7200\n",
            "Epoch 23/30\n",
            "100/100 [==============================] - 9s 90ms/step - loss: 0.1142 - acc: 0.9610 - val_loss: 0.9296 - val_acc: 0.7110\n",
            "Epoch 24/30\n",
            "100/100 [==============================] - 9s 90ms/step - loss: 0.1080 - acc: 0.9640 - val_loss: 0.7413 - val_acc: 0.7440\n",
            "Epoch 25/30\n",
            "100/100 [==============================] - 9s 90ms/step - loss: 0.0888 - acc: 0.9760 - val_loss: 0.7461 - val_acc: 0.7580\n",
            "Epoch 26/30\n",
            "100/100 [==============================] - 9s 88ms/step - loss: 0.0798 - acc: 0.9755 - val_loss: 0.7990 - val_acc: 0.7280\n",
            "Epoch 27/30\n",
            "100/100 [==============================] - 9s 89ms/step - loss: 0.0606 - acc: 0.9800 - val_loss: 0.9544 - val_acc: 0.7290\n",
            "Epoch 28/30\n",
            "100/100 [==============================] - 9s 89ms/step - loss: 0.0560 - acc: 0.9840 - val_loss: 0.9265 - val_acc: 0.7370\n",
            "Epoch 29/30\n",
            "100/100 [==============================] - 9s 90ms/step - loss: 0.0470 - acc: 0.9880 - val_loss: 0.9447 - val_acc: 0.7280\n",
            "Epoch 30/30\n",
            "100/100 [==============================] - 9s 90ms/step - loss: 0.0435 - acc: 0.9900 - val_loss: 0.9432 - val_acc: 0.7310\n"
          ],
          "name": "stdout"
        }
      ]
    },
    {
      "cell_type": "code",
      "metadata": {
        "id": "hquceE_aK9VG",
        "colab_type": "code",
        "colab": {}
      },
      "source": [
        "model.save(GDRIVEPATH+'cats_and_dogs_small_1.h5')"
      ],
      "execution_count": 0,
      "outputs": []
    },
    {
      "cell_type": "code",
      "metadata": {
        "id": "3jYqDMPtdYYc",
        "colab_type": "code",
        "outputId": "30f27dfd-c937-4932-9383-19284dae9ac6",
        "colab": {
          "base_uri": "https://localhost:8080/",
          "height": 545
        }
      },
      "source": [
        "import matplotlib.pyplot as plt\n",
        "\n",
        "acc = history.history['acc']\n",
        "val_acc = history.history['val_acc']\n",
        "loss = history.history['loss']\n",
        "val_loss = history.history['val_loss']\n",
        "\n",
        "epochs = range(1, len(acc) + 1)\n",
        "\n",
        "plt.plot(epochs, acc, 'bo', label='Training acc')\n",
        "plt.plot(epochs, val_acc, 'b', label='Validation acc')\n",
        "plt.title('Training and validation accuracy')\n",
        "plt.legend()\n",
        "\n",
        "plt.figure()\n",
        "\n",
        "plt.plot(epochs, loss, 'bo', label='Training loss')\n",
        "plt.plot(epochs, val_loss, 'b', label='Validation loss')\n",
        "plt.title('Training and validation loss')\n",
        "plt.legend()\n",
        "\n",
        "plt.show()"
      ],
      "execution_count": 0,
      "outputs": [
        {
          "output_type": "display_data",
          "data": {
            "image/png": "[encoded data removed]",
            "text/plain": [
              "<Figure size 432x288 with 1 Axes>"
            ]
          },
          "metadata": {
            "tags": []
          }
        },
        {
          "output_type": "display_data",
          "data": {
            "image/png": "[encoded data removed]",
            "text/plain": [
              "<Figure size 432x288 with 1 Axes>"
            ]
          },
          "metadata": {
            "tags": []
          }
        }
      ]
    }
  ]
}